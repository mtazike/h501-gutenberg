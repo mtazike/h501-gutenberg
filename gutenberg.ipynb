{
 "cells": [
  {
   "cell_type": "code",
   "execution_count": 1,
   "id": "df62a08e",
   "metadata": {},
   "outputs": [
    {
     "name": "stdout",
     "output_type": "stream",
     "text": [
      "\n",
      "# conda environments:\n",
      "#\n",
      "base                   C:\\Users\\Mtazike\\AppData\\Local\\miniconda3\n",
      "                       C:\\Users\\Mtazike\\AppData\\Local\\miniconda3\\New folder\n",
      "h501-gutenberg       * C:\\Users\\Mtazike\\AppData\\Local\\miniconda3\\envs\\h501-gutenberg\n",
      "test                   C:\\Users\\Mtazike\\AppData\\Local\\miniconda3\\envs\\test\n",
      "week4_env              C:\\Users\\Mtazike\\AppData\\Local\\miniconda3\\envs\\week4_env\n",
      "                       c:\\Users\\Mtazike\\AppData\\Local\\miniconda3\n",
      "\n"
     ]
    }
   ],
   "source": [
    "!conda env list\n"
   ]
  }
 ],
 "metadata": {
  "kernelspec": {
   "display_name": "h501-gutenberg",
   "language": "python",
   "name": "python3"
  },
  "language_info": {
   "codemirror_mode": {
    "name": "ipython",
    "version": 3
   },
   "file_extension": ".py",
   "mimetype": "text/x-python",
   "name": "python",
   "nbconvert_exporter": "python",
   "pygments_lexer": "ipython3",
   "version": "3.11.13"
  }
 },
 "nbformat": 4,
 "nbformat_minor": 5
}
